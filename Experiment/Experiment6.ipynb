{
 "cells": [
  {
   "cell_type": "markdown",
   "id": "06ca0a88-d465-4dd4-90c1-1a244eee8a23",
   "metadata": {},
   "source": [
    "#### Importing","#### Importing"
   ]
  },
  {
   "cell_type": "code",
   "execution_count": 2,
   "id": "01db0eaf-735c-43c3-ab31-f49a2b9ac206",
   "metadata": {},
   "outputs": [],
   "source": [
    "import sqlite3\n"
   ]
  },
  {
   "cell_type": "markdown",
   "id": "953b0540-425b-425f-be5d-6e7e8851346c",
   "metadata": {},
   "source": [
    "#### Connecting to Database"
   ]
  },
  {
   "cell_type": "code",
   "execution_count": 5,
   "id": "15c88937-f00f-4d35-b366-e615b33b4410",
   "metadata": {},
   "outputs": [],
   "source": [
    "connection = sqlite3.connect ('./genericDatabase.db')\n",
    "cursor = connection.cursor ()"
   ]
  },
  {
   "cell_type": "markdown",
   "id": "ec1454f0-3e2b-4a57-adab-1287a2ae5fec",
   "metadata": {},
   "source": [
    "#### Create Table"
   ]
  },
  {
   "cell_type": "code",
   "execution_count": 8,
   "id": "f618d4a6-7a02-4f2b-8030-48c232acf53a",
   "metadata": {},
   "outputs": [],
   "source": [
    "cursor.execute('''\n",
    "    CREATE TABLE IF NOT EXISTS students (\n",
    "        id INTEGER PRIMARY KEY AUTOINCREMENT,\n",
    "        name TEXT NOT NULL,\n",
    "        age INTEGER NOT NULL\n",
    "    )\n",
    "''')\n",
    "\n",
    "connection.commit()"
   ]
  },
  {
   "cell_type": "markdown",
   "id": "32832fb5-b3f3-42b9-9ff5-617504a50a03",
   "metadata": {},
   "source": [
    "#### CRUD Operations\n",
    "#### Create (Insertion)"
   ]
  },
  {
   "cell_type": "code",
   "execution_count": 11,
   "id": "22243469-54a4-4036-98f7-18a0a538a36f",
   "metadata": {},
   "outputs": [
    {
     "name": "stdout",
     "output_type": "stream",
     "text": [
      "Record added successfully!\n",
      "Record added successfully!\n"
     ]
    }
   ],
   "source": [
    "\n",
    "def create_student(name, age):\n",
    "    cursor.execute('''\n",
    "        INSERT INTO students (name, age) \n",
    "        VALUES (?, ?)\n",
    "    ''', (name, age))\n",
    "    connection.commit()\n",
    "    print(\"Record added successfully!\")\n",
    "\n",
    "create_student(\"Griffith\", 20)\n",
    "create_student(\"Guts\", 22)"
   ]
  },
  {
   "cell_type": "markdown",
   "id": "067ee30f-6dcb-4db5-b9e3-cdf7952be540",
   "metadata": {},
   "source": [
    "#### Read (Retrieve)"
   ]
  },
  {
   "cell_type": "code",
   "execution_count": 14,
   "id": "8075f901-f0a7-4e73-989e-f0250584a436",
   "metadata": {},
   "outputs": [
    {
     "name": "stdout",
     "output_type": "stream",
     "text": [
      "Student Records:\n",
      "(1, 'Griffith', 20)\n",
      "(2, 'Guts', 22)\n"
     ]
    }
   ],
   "source": [
    "\n",
    "def read_students():\n",
    "    cursor.execute('SELECT * FROM students')\n",
    "    rows = cursor.fetchall()\n",
    "    print(\"Student Records:\")\n",
    "    for row in rows:\n",
    "        print(row)\n",
    "\n",
    "read_students()"
   ]
  },
  {
   "cell_type": "markdown",
   "id": "f63b04fe-6e3b-46d5-be0e-f59c88b7334b",
   "metadata": {},
   "source": [
    "#### Update"
   ]
  },
  {
   "cell_type": "code",
   "execution_count": 25,
   "id": "60e7fdee-1a1b-4c41-a764-9a39605271d0",
   "metadata": {},
   "outputs": [
    {
     "name": "stdout",
     "output_type": "stream",
     "text": [
      "Student age updated successfully!\n",
      "Student Records:\n",
      "(1, 'Griffith', 21)\n",
      "(2, 'Guts', 22)\n"
     ]
    }
   ],
   "source": [
    "\n",
    "def update_student_age(student_id, new_age):\n",
    "    cursor.execute(\"UPDATE students set age=? WHERE id=?\",\n",
    "     (new_age, student_id))\n",
    "    connection.commit()\n",
    "    print(\"Student age updated successfully!\")\n",
    "\n",
    "update_student_age(1, 21)  # Updating Alice's age to 21\n",
    "read_students()"
   ]
  },
  {
   "cell_type": "markdown",
   "id": "417dd978-b80b-4c4e-a3ab-a7c354ead734",
   "metadata": {},
   "source": [
    "### Delete"
   ]
  },
  {
   "cell_type": "code",
   "execution_count": 32,
   "id": "d1c5fce3-5bc6-4ced-b6d6-61d7831c0c20",
   "metadata": {},
   "outputs": [
    {
     "name": "stdout",
     "output_type": "stream",
     "text": [
      "Student deleted successfully!\n",
      "Student Records:\n",
      "(1, 'Griffith', 21)\n"
     ]
    }
   ],
   "source": [
    "\n",
    "def delete_student(student_id):\n",
    "    cursor.execute(\"DELETE FROM students WHERE id=?\", (student_id,))\n",
    "    connection.commit()\n",
    "    print(\"Student deleted successfully!\")\n",
    "\n",
    "delete_student(2)  # Deleting Bob's record\n",
    "read_students()"
   ]
  },
  {
   "cell_type": "markdown",
   "id": "5ea2da09-100d-4642-9acd-8e485660816f",
   "metadata": {},
   "source": [
    "### Closing the database connection"
   ]
  },
  {
   "cell_type": "code",
   "execution_count": 35,
   "id": "cef4f3e0-b8d5-4b51-9743-9b7232853cc9",
   "metadata": {},
   "outputs": [],
   "source": [
    "connection.close ()"
   ]
  },
  {
   "cell_type": "code",
   "execution_count": null,
   "id": "3daa5cf3-9621-4b1c-9c6a-d8c86629f482",
   "metadata": {},
   "outputs": [],
   "source": []
  }
 ],
 "metadata": {
  "kernelspec": {
   "display_name": "Python 3 (ipykernel)",
   "language": "python",
   "name": "python3"
  },
  "language_info": {
   "codemirror_mode": {
    "name": "ipython",
    "version": 3
   },
   "file_extension": ".py",
   "mimetype": "text/x-python",
   "name": "python",
   "nbconvert_exporter": "python",
   "pygments_lexer": "ipython3",
   "version": "3.12.7"
  }
 },
 "nbformat": 4,
 "nbformat_minor": 5
}
