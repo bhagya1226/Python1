{
 "cells": [
  {
   "cell_type": "code",
   "execution_count": 6,
   "id": "1fcc949b-bceb-40fc-8bba-efced431b216",
   "metadata": {},
   "outputs": [
    {
     "name": "stdout",
     "output_type": "stream",
     "text": [
      "Full-stack developer\n"
"#### Bhagyashri Sutar\n","#### Practical No.6\n"
     ]
    }
   ],
   "source": [
    "class Employee:\n",
    "    def __init__ (\n",
    "            self,\n",
    "            designation : str = 'Developer',\n",
    "            frontend : bool = True,\n",
    "            backend : bool = True\n",
    "    ):\n",
    "        self.designation = designation\n",
    "        self.frontend = frontend\n",
    "        self.backend = backend\n",
    "\n",
    "    def __repr__ (self):\n",
    "        return '{}'.format (self.designation, self.frontend, self.backend)\n",
    "    \n",
    "    def verifier (self):\n",
    "        if self.frontend and self.backend:\n",
    "            return \"Full-stack developer\"\n",
    "        elif self.frontend:\n",
    "            return \"Frontend Developer\"\n",
    "        elif self.backend:\n",
    "            return \"Backend Developer\"\n",
    "        else:\n",
    "            return \"Not a Developer\"\n",
    "if __name__ == '__main__':\n",
    "    firstEmployee = Employee()\n",
    "    print(firstEmployee.verifier())"
   ]
  },
  {
   "cell_type": "code",
   "execution_count": null,
   "id": "79d013c2-2faf-4240-b72c-717f83b7d18d",
   "metadata": {},
   "outputs": [],
   "source": []
  }
 ],
 "metadata": {
  "kernelspec": {
   "display_name": "Python 3 (ipykernel)",
   "language": "python",
   "name": "python3"
  },
  "language_info": {
   "codemirror_mode": {
    "name": "ipython",
    "version": 3
   },
   "file_extension": ".py",
   "mimetype": "text/x-python",
   "name": "python",
   "nbconvert_exporter": "python",
   "pygments_lexer": "ipython3",
   "version": "3.11.5"
  }
 },
 "nbformat": 4,
 "nbformat_minor": 5
}
