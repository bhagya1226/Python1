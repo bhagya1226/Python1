{
 "cells": [
  {
   "cell_type": "markdown",
   "id": "fc8a66ff-2a46-488c-9305-a13071db0059",
   "metadata": {},
   "source": [
    "### Bhagyashri sutar\n",
    "### Roll No:-5\n",
    "### Practical No.5\n",
    "### Stack\n",
    "### Given a valid parentheses string stringInput, return the nesting depth of stringInput.\n",
    "### The nesting depth is the maximum number of nested parentheses.\n",
    "\n",
    "### Example 1:\n",
    "### Input: s = \"(1+(2*3)+((8)/4))+1\"\n",
    "### Output: 3\n",
    "### Explanation:\n",
    "### Digit 8 is inside of 3 nested parentheses in the string."
   ]
  },
  {
   "cell_type": "code",
   "execution_count": 8,
   "id": "4a96f0bc-ddda-4e31-aea8-fbf0bdd67fe9",
   "metadata": {},
   "outputs": [
    {
     "name": "stdout",
     "output_type": "stream",
     "text": [
      "3\n"
     ]
    }
   ],
   "source": [
    "def maxNestingDepth(s: str) -> int:\n",
    "    depth = 0\n",
    "    maxDepth = 0\n",
    "    \n",
    "    for char in s:\n",
    "        if char == '(':\n",
    "            depth += 1\n",
    "            maxDepth = max(maxDepth, depth)\n",
    "        elif char == ')':\n",
    "            depth -= 1\n",
    "    \n",
    "    return maxDepth\n",
    "\n",
    "# Example usage\n",
    "s = \"(1+(2*3)+((8)/4))+1\"\n",
    "print(maxNestingDepth(s))  # Output: 3\n"
   ]
  },
  {
   "cell_type": "markdown",
   "id": "ceceb45d-cff6-4d7f-aa50-3619593038eb",
   "metadata": {},
   "source": [
    "### Example 2:\n",
    "### Input: s = \"(1)+((2))+(((3)))\"\n",
    "### Output: 3\n",
    "### Explanation:\n",
    "### Digit 3 is inside of 3 nested parentheses in the string."
   ]
  },
  {
   "cell_type": "code",
   "execution_count": 13,
   "id": "4ea66359-7f8c-4367-9419-b259b957a03f",
   "metadata": {},
   "outputs": [
    {
     "name": "stdout",
     "output_type": "stream",
     "text": [
      "3\n"
     ]
    }
   ],
   "source": [
    "def maxNestingDepth(s: str) -> int:\n",
    "    depth = 0\n",
    "    maxDepth = 0\n",
    "\n",
    "    for char in s:\n",
    "        if char == '(':\n",
    "            depth += 1\n",
    "            maxDepth = max(maxDepth, depth)\n",
    "        elif char == ')':\n",
    "            depth -= 1  # Reduce depth when closing parenthesis is found\n",
    "\n",
    "    return maxDepth\n",
    "\n",
    "# Example 2\n",
    "s = \"(1)+((2))+(((3)))\"\n",
    "print(maxNestingDepth(s))  # Output: 3\n"
   ]
  },
  {
   "cell_type": "markdown",
   "id": "a053458e-7d3a-4346-afa0-8fb1b0d30783",
   "metadata": {},
   "source": [
    "### Example 3:\n",
    "### Input: s = \"()(())((()()))\"\n",
    "### Output: 3"
   ]
  },
  {
   "cell_type": "code",
   "execution_count": 16,
   "id": "d8a694d5-a953-442a-a188-8192fd6f41f9",
   "metadata": {},
   "outputs": [
    {
     "name": "stdout",
     "output_type": "stream",
     "text": [
      "3\n"
     ]
    }
   ],
   "source": [
    "def maxNestingDepth(s: str) -> int:\n",
    "    depth = 0\n",
    "    maxDepth = 0\n",
    "\n",
    "    for char in s:\n",
    "        if char == '(':\n",
    "            depth += 1\n",
    "            maxDepth = max(maxDepth, depth)\n",
    "        elif char == ')':\n",
    "            depth -= 1  # Reduce depth when closing parenthesis is found\n",
    "\n",
    "    return maxDepth\n",
    "\n",
    "# Example 3\n",
    "s = \"()(())((()()))\"\n",
    "print(maxNestingDepth(s))  # Output: 3\n"
   ]
  },
  {
   "cell_type": "code",
   "execution_count": null,
   "id": "7522f7e0-f743-4706-bcc5-a1a36da145a0",
   "metadata": {},
   "outputs": [],
   "source": []
  }
 ],
 "metadata": {
  "kernelspec": {
   "display_name": "Python [conda env:base] *",
   "language": "python",
   "name": "conda-base-py"
  },
  "language_info": {
   "codemirror_mode": {
    "name": "ipython",
    "version": 3
   },
   "file_extension": ".py",
   "mimetype": "text/x-python",
   "name": "python",
   "nbconvert_exporter": "python",
   "pygments_lexer": "ipython3",
   "version": "3.12.7"
  }
 },
 "nbformat": 4,
 "nbformat_minor": 5
}
