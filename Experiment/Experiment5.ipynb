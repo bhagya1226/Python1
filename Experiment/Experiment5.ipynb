{
 "cells": [
  {
   "cell_type": "markdown",
   "id": "d50c25d4-9afe-4731-ba9e-4110c1ba7520",
   "metadata": {},
   "source": [
    "### Bhagyashri sutar\n",
    "##### Roll No:-75\n",
    "##### Practical No.5\n",
    "##### Stack\n",
    "##### <font color='red'> Given a valid parentheses string stringInput, return the nesting depth of stringInput.he nesting depth is the maximum number of nested parentheses.\n",
    "\n"
   ]
  },
  {
   "cell_type": "code",
   "execution_count": 31,
   "id": "d138d017-601e-4f68-bb55-7f1b24da2928",
   "metadata": {},
   "outputs": [
    {
     "name": "stdout",
     "output_type": "stream",
     "text": [
      "Initial Stack\n",
      "['a', 'b', 'c']\n"
     ]
    }
   ],
   "source": [
    "stack = list ()\n",
    "\n",
    "# Append Operation\n",
    "stack.append ('a')\n",
    "stack.append ('b')\n",
    "stack.append ('c')\n",
    "print ('Initial Stack')\n",
    "print (stack)"
   ]
  },
  {
   "cell_type": "code",
   "execution_count": 29,
   "id": "0573da54-262b-4cb2-a80c-47c197b45436",
   "metadata": {},
   "outputs": [
    {
     "name": "stdout",
     "output_type": "stream",
     "text": [
      "c\n",
      "b\n",
      "a\n",
      "[]\n"
     ]
    }
   ],
   "source": [
    "# Pop Operation\n",
    "print (stack.pop ())\n",
    "print (stack.pop ())\n",
    "print (stack.pop ())\n",
    "print (stack)"
   ]
  },
  {
   "cell_type": "markdown",
   "id": "bcf0edcf-4a13-4c15-9dee-ba4bafe4589f",
   "metadata": {},
   "source": [
    "### <font color='red'>Example 1:</font>\n",
    "#### <font color='red'> Input: s = \"(1+(2*3)+((8)/4))+1\"</font>\n",
    "#### <font color='red'>Output: 3</font>"
   ]
  },
  {
   "cell_type": "code",
   "execution_count": 5,
   "id": "4a96f0bc-ddda-4e31-aea8-fbf0bdd67fe9",
   "metadata": {},
   "outputs": [
    {
     "name": "stdout",
     "output_type": "stream",
     "text": [
      "3\n"
     ]
    }
   ],
   "source": [
    "def maxNestingDepth(s: str) -> int:\n",
    "    depth = 0\n",
    "    maxDepth = 0\n",
    "    \n",
    "    for char in s:\n",
    "        if char == '(':\n",
    "            depth += 1\n",
    "            maxDepth = max(maxDepth, depth)\n",
    "        elif char == ')':\n",
    "            depth -= 1\n",
    "    \n",
    "    return maxDepth\n",
    "\n",
    "# Example usage\n",
    "s = \"(1+(2*3)+((8)/4))+1\"\n",
    "print(maxNestingDepth(s))  # Output: 3\n"
   ]
  },
  {
   "cell_type": "markdown",
   "id": "c7c4ba8c-539b-4610-bbbd-3500b6753a6e",
   "metadata": {},
   "source": [
    "### <font color='red'>Explanation: </font>\n",
    "###  <font color='red'>Digit 8 is inside of 3 nested parentheses in the string.</font>"
   ]
  },
  {
   "cell_type": "markdown",
   "id": "47f15390-b052-4fbb-9a30-bd64c88274c2",
   "metadata": {},
   "source": [
    "### <font color='green'> Example 2:</font>\n",
    "### <font color='green'> Input: s = \"(1)+((2))+(((3)))\"</font>\n",
    "### <font color='green'> Output: 3</font>"
   ]
  },
  {
   "cell_type": "code",
   "execution_count": 13,
   "id": "4ea66359-7f8c-4367-9419-b259b957a03f",
   "metadata": {},
   "outputs": [
    {
     "name": "stdout",
     "output_type": "stream",
     "text": [
      "3\n"
     ]
    }
   ],
   "source": [
    "def maxNestingDepth(s: str) -> int:\n",
    "    depth = 0\n",
    "    maxDepth = 0\n",
    "\n",
    "    for char in s:\n",
    "        if char == '(':\n",
    "            depth += 1\n",
    "            maxDepth = max(maxDepth, depth)\n",
    "        elif char == ')':\n",
    "            depth -= 1  # Reduce depth when closing parenthesis is found\n",
    "\n",
    "    return maxDepth\n",
    "\n",
    "# Example 2\n",
    "s = \"(1)+((2))+(((3)))\"\n",
    "print(maxNestingDepth(s))  # Output: 3\n"
   ]
  },
  {
   "cell_type": "markdown",
   "id": "f40aacea-9269-4471-95f1-bb5344d2adb5",
   "metadata": {},
   "source": [
    "### <font color='green'>Explanation</font>\n",
    "### <font color='green'> Digit 3 is inside of 3 nested parentheses in the string.</font>"
   ]
  },
  {
   "cell_type": "markdown",
   "id": "a053458e-7d3a-4346-afa0-8fb1b0d30783",
   "metadata": {},
   "source": [
    "### <font color='blue'>Example 3:</font>\n",
    "### <font color='blue'>Input: s = \"()(())((()()))\"</font>\n",
    "### <font color='blue'>Output: 3</font>"
   ]
  },
  {
   "cell_type": "code",
   "execution_count": 16,
   "id": "d8a694d5-a953-442a-a188-8192fd6f41f9",
   "metadata": {},
   "outputs": [
    {
     "name": "stdout",
     "output_type": "stream",
     "text": [
      "3\n"
     ]
    }
   ],
   "source": [
    "def maxNestingDepth(s: str) -> int:\n",
    "    depth = 0\n",
    "    maxDepth = 0\n",
    "\n",
    "    for char in s:\n",
    "        if char == '(':\n",
    "            depth += 1\n",
    "            maxDepth = max(maxDepth, depth)\n",
    "        elif char == ')':\n",
    "            depth -= 1  # Reduce depth when closing parenthesis is found\n",
    "\n",
    "    return maxDepth\n",
    "\n",
    "# Example 3\n",
    "s = \"()(())((()()))\"\n",
    "print(maxNestingDepth(s))  # Output: 3\n"
   ]
  },
  {
   "cell_type": "code",
   "execution_count": null,
   "id": "81f67d2f-d36b-408b-bc17-531b2414a18c",
   "metadata": {},
   "outputs": [],
   "source": []
  }
 ],
 "metadata": {
  "kernelspec": {
   "display_name": "Python [conda env:base] *",
   "language": "python",
   "name": "conda-base-py"
  },
  "language_info": {
   "codemirror_mode": {
    "name": "ipython",
    "version": 3
   },
   "file_extension": ".py",
   "mimetype": "text/x-python",
   "name": "python",
   "nbconvert_exporter": "python",
   "pygments_lexer": "ipython3",
   "version": "3.12.7"
  }
 },
 "nbformat": 4,
 "nbformat_minor": 5
}
