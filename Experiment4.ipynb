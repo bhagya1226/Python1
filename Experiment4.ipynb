{
 "cells": [
  {
   "cell_type": "code",
   "execution_count": 1,
   "id": "9999d0c6-78de-41d7-8fae-e1a0aa25e066",
   "metadata": {},
   "outputs": [
    {
     "name": "stdout",
     "output_type": "stream",
     "text": [
      "Files in the current directory:\n",
      "Experiment3.ipynb\n",
      "Experiment4.ipynb\n",
      "file.txt\n"
     ]
    }
   ],
   "source": [
    "import os\n",
    "\n",
    "files = [f for f in os.listdir('.') if os.path.isfile(f)]\n",
    "\n",
    "print(\"Files in the current directory:\")\n",
    "for file in files:\n",
    "    print(file)"
   ]
  },
  {
   "cell_type": "code",
   "execution_count": null,
   "id": "e755ac8b-0014-478d-b97a-af8540763066",
   "metadata": {},
   "outputs": [],
   "source": []
  }
 ],
 "metadata": {
  "kernelspec": {
   "display_name": "Python [conda env:base] *",
   "language": "python",
   "name": "conda-base-py"
  },
  "language_info": {
   "codemirror_mode": {
    "name": "ipython",
    "version": 3
   },
   "file_extension": ".py",
   "mimetype": "text/x-python",
   "name": "python",
   "nbconvert_exporter": "python",
   "pygments_lexer": "ipython3",
   "version": "3.12.7"
  }
 },
 "nbformat": 4,
 "nbformat_minor": 5
}
