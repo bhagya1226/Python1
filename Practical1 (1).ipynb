{
  "metadata": {
    "kernelspec": {
      "name": "python",
      "display_name": "Python (Pyodide)",
      "language": "python"
    },
    "language_info": {
      "codemirror_mode": {
        "name": "python",
        "version": 3
      },
      "file_extension": ".py",
      "mimetype": "text/x-python",
      "name": "python",
      "nbconvert_exporter": "python",
      "pygments_lexer": "ipython3",
      "version": "3.8"
    }
  },
  "nbformat_minor": 5,
  "nbformat": 4,
  "cells": [
    {
      "id": "fb4cb45c-4556-425a-a01d-ae4343a4c0db",
      "cell_type": "markdown",
      "source": "### Bhagyashri Sutar ,Practical no.1",
      "metadata": {}
    },
    {
      "id": "b481a082-efde-46d1-8bdd-b7a648cae830",
      "cell_type": "markdown",
      "source": "### string In Python",
      "metadata": {}
    },
    {
      "id": "d5633a10-9dc3-423c-8677-d8a973c3aa5b",
      "cell_type": "code",
      "source": "a = 'This is a string'\nprint (a)\nb = \"This is a string\"\nprint (b)\nc= '''This is a string'''\n\nprint (c)",
      "metadata": {
        "trusted": true
      },
      "outputs": [
        {
          "name": "stdout",
          "output_type": "stream",
          "text": "This is a string\nThis is a string\nThis is a string\n"
        }
      ],
      "execution_count": 1
    },
    {
      "id": "1b98e371-0c3a-4a2d-a109-a2b0b36eb325",
      "cell_type": "markdown",
      "source": "### Lists in Python",
      "metadata": {}
    },
    {
      "id": "e91f2b0f-8c8f-4978-9e4c-b7556470f936",
      "cell_type": "code",
      "source": "# Declaring a list\nL = [1, \"a\" , \"string\" , 1+2]\nprint (L)\n#Adding an element in the list\nL.append(6) \nprint (L)\n#Deleting last element from a list\nL.pop()\nprint (L)\n#Displaying Second element of the list\nprint (L[1])",
      "metadata": {
        "trusted": true
      },
      "outputs": [
        {
          "name": "stdout",
          "output_type": "stream",
          "text": "[1, 'a', 'string', 3]\n[1, 'a', 'string', 3, 6]\n[1, 'a', 'string', 3]\na\n"
        }
      ],
      "execution_count": 3
    },
    {
      "id": "081e9112-3772-4bb1-9fee-7e4495a40b69",
      "cell_type": "markdown",
      "source": "### Tuples in Python",
      "metadata": {}
    },
    {
      "id": "067dbafc-c75c-4beb-85a0-00cec7f92785",
      "cell_type": "code",
      "source": "tup = (1, \"a\", \"string\", 1+2)\nprint(tup)\nprint(tup[1])\n\n",
      "metadata": {
        "trusted": true
      },
      "outputs": [
        {
          "name": "stdout",
          "output_type": "stream",
          "text": "(1, 'a', 'string', 3)\na\n"
        }
      ],
      "execution_count": 4
    },
    {
      "id": "68ff2a7a-24b6-4dce-ad00-848c9c5a3192",
      "cell_type": "markdown",
      "source": "### ",
      "metadata": {}
    },
    {
      "id": "a8112f0d-4c5c-450c-bdf5-f134837d0e5e",
      "cell_type": "markdown",
      "source": "### Dictionaries in Python\nA Python dictionary is a data structure that stores the value in key: value pairs. Values in a dictionary can be of any data type and can be duplicated, whereas keys can’t be repeated and must be immutable.",
      "metadata": {}
    },
    {
      "id": "27a6f324-e13c-4362-b0c5-c2f8ff8edcc5",
      "cell_type": "code",
      "source": "d = {1: 'Lorem', 2: 'Ipsum', 3: 'Dolerum'} \nprint(d)",
      "metadata": {
        "trusted": true
      },
      "outputs": [
        {
          "name": "stdout",
          "output_type": "stream",
          "text": "{1: 'Lorem', 2: 'Ipsum', 3: 'Dolerum'}\n"
        }
      ],
      "execution_count": 4
    },
    {
      "id": "4c7e0430-876c-41df-ac4b-ad951bb6a924",
      "cell_type": "markdown",
      "source": "### Create a Dictionary",
      "metadata": {}
    },
    {
      "id": "5bed1f01-37f6-41ad-86ff-c53e1b4d3ede",
      "cell_type": "code",
      "source": "# create dictionary using { }\nd1 = {1: 'Game', 2: 'of', 3: 'Thrones'}\nprint(d1)\n\n# create dictionary using dict() constructor\nd2 = dict(a = \"House\", b = \"of\", c = \"Cards\")\nprint(d2)",
      "metadata": {
        "trusted": true
      },
      "outputs": [
        {
          "name": "stdout",
          "output_type": "stream",
          "text": "{1: 'Game', 2: 'of', 3: 'Thrones'}\n{'a': 'House', 'b': 'of', 'c': 'Cards'}\n"
        }
      ],
      "execution_count": 6
    },
    {
      "id": "c0bcf6ec-fb5e-4aba-a3a8-f6310ca14c75",
      "cell_type": "markdown",
      "source": "### Accessing Dictionary Items\n",
      "metadata": {}
    },
    {
      "id": "666df1e9-799e-48e1-859f-6da88c5088b7",
      "cell_type": "code",
      "source": "d = { \"name\": \"Alice\", 1: \"Python\", (1, 2): [1,2,4] }\n\n# Access using key\nprint(d[\"name\"])\n\n# Access using get()\nprint(d.get(\"name\"))",
      "metadata": {
        "trusted": true
      },
      "outputs": [
        {
          "name": "stdout",
          "output_type": "stream",
          "text": "Alice\nAlice\n"
        }
      ],
      "execution_count": 7
    },
    {
      "id": "7b6a704c-609b-49d2-bc02-e314be9854d7",
      "cell_type": "markdown",
      "source": "### Adding and Updating Dictionary Items",
      "metadata": {}
    },
    {
      "id": "357506be-a7ab-447f-aba6-b697b7472d77",
      "cell_type": "code",
      "source": "d = {1: 'Game', 2: 'of', 3: 'Thrones'}\n\n# Adding a new key-value pair\nd[\"age\"] = 22\n\n# Updating an existing value\nd[1] = \"Python dict\"\n\nprint(d)",
      "metadata": {
        "trusted": true
      },
      "outputs": [
        {
          "name": "stdout",
          "output_type": "stream",
          "text": "{1: 'Python dict', 2: 'of', 3: 'Thrones', 'age': 22}\n"
        }
      ],
      "execution_count": 8
    },
    {
      "id": "f8c39f7b-c262-46be-9bba-271d109078e0",
      "cell_type": "code",
      "source": "",
      "metadata": {
        "trusted": true
      },
      "outputs": [],
      "execution_count": null
    }
  ]
}