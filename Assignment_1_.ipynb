{
 "cells": [
  {
   "cell_type": "code",
   "execution_count": null,
   "id": "d7ee0630-261b-4d66-bb9d-6e567a824396",
   "metadata": {},
   "outputs": [],
   "source": []
  },
  {
   "cell_type": "code",
   "execution_count": null,
   "id": "d38644ca-402a-414b-87d4-25f06d7b118b",
   "metadata": {},
   "outputs": [
    {
     "name": "stdout",
     "output_type": "stream",
     "text": [
      "\n",
      "1. Add Product\n",
      "2. Update Stock\n",
      "3. View Product Details\n",
      "4. Exit\n"
     ]
    },
    {
     "name": "stdin",
     "output_type": "stream",
     "text": [
      "Enter your choice:  1\n",
      "Enter product name:  phone\n",
      "Enter product price:  20000\n",
      "Enter product stock:  4\n"
     ]
    },
    {
     "name": "stdout",
     "output_type": "stream",
     "text": [
      "Product added successfully!\n",
      "\n",
      "1. Add Product\n",
      "2. Update Stock\n",
      "3. View Product Details\n",
      "4. Exit\n"
     ]
    },
    {
     "name": "stdin",
     "output_type": "stream",
     "text": [
      "Enter your choice:  1\n",
      "Enter product name:  earphone\n",
      "Enter product price:  1200\n",
      "Enter product stock:  5\n"
     ]
    },
    {
     "name": "stdout",
     "output_type": "stream",
     "text": [
      "Product added successfully!\n",
      "\n",
      "1. Add Product\n",
      "2. Update Stock\n",
      "3. View Product Details\n",
      "4. Exit\n"
     ]
    },
    {
     "name": "stdin",
     "output_type": "stream",
     "text": [
      "Enter your choice:  3\n",
      "Enter product name:  phone\n"
     ]
    },
    {
     "name": "stdout",
     "output_type": "stream",
     "text": [
      "Product: Phone, Price: $20000.0, Stock: 4\n",
      "\n",
      "1. Add Product\n",
      "2. Update Stock\n",
      "3. View Product Details\n",
      "4. Exit\n"
     ]
    },
    {
     "name": "stdin",
     "output_type": "stream",
     "text": [
      "Enter your choice:  2\n",
      "Enter product name to update:  phone\n",
      "Enter quantity to add/remove (!use - TO remove):  -3\n"
     ]
    },
    {
     "name": "stdout",
     "output_type": "stream",
     "text": [
      "Stock updated successfully!\n",
      "\n",
      "1. Add Product\n",
      "2. Update Stock\n",
      "3. View Product Details\n",
      "4. Exit\n"
     ]
    },
    {
     "name": "stdin",
     "output_type": "stream",
     "text": [
      "Enter your choice:  3\n",
      "Enter product name:  phone\n"
     ]
    },
    {
     "name": "stdout",
     "output_type": "stream",
     "text": [
      "Product: Phone, Price: $20000.0, Stock: 1\n",
      "\n",
      "1. Add Product\n",
      "2. Update Stock\n",
      "3. View Product Details\n",
      "4. Exit\n"
     ]
    }
   ],
   "source": [
    "\n",
    "\n",
    "class Product:\n",
    "    def __init__(self, name, price, stock):\n",
    "        self.name = name.strip().lower()\n",
    "        self.price = float(price)\n",
    "        self.stock = int(stock)\n",
    "\n",
    "    def update_stock(self, quantity):\n",
    "        self.stock += quantity\n",
    "        print(\"Stock updated successfully!\")\n",
    "\n",
    "    def __str__(self):\n",
    "        return f\"Product: {self.name.capitalize()}, Price: ${self.price}, Stock: {self.stock}\"\n",
    "\n",
    "\n",
    "def main():\n",
    "    products = {}\n",
    "\n",
    "    while True:\n",
    "        print(\"\\n1. Add Product\")\n",
    "        print(\"2. Update Stock\")\n",
    "        print(\"3. View Product Details\")\n",
    "        print(\"4. Exit\")\n",
    "        choice = input(\"Enter your choice: \")\n",
    "\n",
    "        if choice == \"1\":\n",
    "            name = input(\"Enter product name: \").strip().lower()\n",
    "            price = input(\"Enter product price: \")\n",
    "            stock = input(\"Enter product stock: \")\n",
    "            products[name] = Product(name, price, stock)\n",
    "            print(\"Product added successfully!\")\n",
    "\n",
    "        elif choice == \"2\":\n",
    "            name = input(\"Enter product name to update: \").strip().lower()\n",
    "            if name in products:\n",
    "                quantity = int(input(\"Enter quantity to add/remove (!use - TO remove): \"))\n",
    "                products[name].update_stock(quantity)\n",
    "            else:\n",
    "                print(\"Product not found! Please check the name.\")\n",
    "\n",
    "        elif choice == \"3\":\n",
    "            name = input(\"Enter product name: \").strip().lower()\n",
    "            if name in products:\n",
    "                print(products[name])\n",
    "            else:\n",
    "                print(\"Product not found! Please check the name.\")\n",
    "\n",
    "        elif choice == \"4\":\n",
    "            print(\"Exiting the system. Goodbye!\")\n",
    "            break\n",
    "        else:\n",
    "            print(\"Invalid choice! Please try again.\")\n",
    "\n",
    "\n",
    "if __name__ == \"__main__\":\n",
    "    main()\n"
   ]
  },
  {
   "cell_type": "code",
   "execution_count": null,
   "id": "76ae7297-7351-4141-b2b5-0b22d4336793",
   "metadata": {},
   "outputs": [],
   "source": []
  }
 ],
 "metadata": {
  "kernelspec": {
   "display_name": "Python 3 (ipykernel)",
   "language": "python",
   "name": "python3"
  },
  "language_info": {
   "codemirror_mode": {
    "name": "ipython",
    "version": 3
   },
   "file_extension": ".py",
   "mimetype": "text/x-python",
   "name": "python",
   "nbconvert_exporter": "python",
   "pygments_lexer": "ipython3",
   "version": "3.11.5"
  }
 },
 "nbformat": 4,
 "nbformat_minor": 5
}
